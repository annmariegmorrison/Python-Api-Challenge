{
 "cells": [
  {
   "cell_type": "markdown",
   "metadata": {},
   "source": [
    "# WeatherPy\n",
    "----\n",
    "\n",
    "#### Note\n",
    "* Instructions have been included for each segment. You do not have to follow them exactly, but they are included to help you think through the steps."
   ]
  },
  {
   "cell_type": "code",
   "execution_count": 1,
   "metadata": {},
   "outputs": [
    {
     "name": "stdout",
     "output_type": "stream",
     "text": [
      "Requirement already satisfied: citipy in /opt/anaconda3/envs/PythonData/lib/python3.6/site-packages (0.0.5)\r\n",
      "Requirement already satisfied: kdtree>=0.12 in /opt/anaconda3/envs/PythonData/lib/python3.6/site-packages (from citipy) (0.16)\r\n"
     ]
    }
   ],
   "source": [
    "!pip install citipy"
   ]
  },
  {
   "cell_type": "code",
   "execution_count": 2,
   "metadata": {
    "scrolled": true
   },
   "outputs": [],
   "source": [
    "# Dependencies and Setup\n",
    "import matplotlib.pyplot as plt\n",
    "import pandas as pd\n",
    "import numpy as np\n",
    "import requests\n",
    "import time\n",
    "from scipy.stats import linregress\n",
    "from pprint import pprint\n",
    "\n",
    "# Import API key\n",
    "from api_keys import weather_api_key\n",
    "\n",
    "# Incorporated citipy to determine city based on latitude and longitude\n",
    "from citipy import citipy\n",
    "\n",
    "# Output File (CSV)\n",
    "output_data_file = \"output_data/cities.csv\"\n",
    "\n",
    "# Range of latitudes and longitudes\n",
    "lat_range = (-90, 90)\n",
    "lng_range = (-180, 180)"
   ]
  },
  {
   "cell_type": "markdown",
   "metadata": {},
   "source": [
    "## Generate Cities List"
   ]
  },
  {
   "cell_type": "code",
   "execution_count": 3,
   "metadata": {},
   "outputs": [
    {
     "data": {
      "text/plain": [
       "590"
      ]
     },
     "execution_count": 3,
     "metadata": {},
     "output_type": "execute_result"
    }
   ],
   "source": [
    "# List for holding lat_lngs and cities\n",
    "lat_lngs = []\n",
    "cities = []\n",
    "\n",
    "# Create a set of random lat and lng combinations\n",
    "lats = np.random.uniform(lat_range[0], lat_range[1], size=1500)\n",
    "lngs = np.random.uniform(lng_range[0], lng_range[1], size=1500)\n",
    "lat_lngs = zip(lats, lngs)\n",
    "\n",
    "# Identify nearest city for each lat, lng combination\n",
    "for lat_lng in lat_lngs:\n",
    "    city = citipy.nearest_city(lat_lng[0], lat_lng[1]).city_name\n",
    "    \n",
    "    # If the city is unique, then add it to a our cities list\n",
    "    if city not in cities:\n",
    "        cities.append(city)\n",
    "\n",
    "# Print the city count to confirm sufficient count\n",
    "len(cities)"
   ]
  },
  {
   "cell_type": "markdown",
   "metadata": {},
   "source": [
    "### Perform API Calls\n",
    "* Perform a weather check on each city using a series of successive API calls.\n",
    "* Include a print log of each city as it's being processed (with the city number and city name).\n"
   ]
  },
  {
   "cell_type": "code",
   "execution_count": 4,
   "metadata": {},
   "outputs": [
    {
     "name": "stdout",
     "output_type": "stream",
     "text": [
      "Processing Record 1 of Set 1 | kruisfontein\n",
      "Processing Record 2 of Set 1 | saint george\n",
      "Processing Record 3 of Set 1 | castro\n",
      "Processing Record 4 of Set 1 | mataura\n",
      "Processing Record 5 of Set 1 | tuktoyaktuk\n",
      "Processing Record 6 of Set 1 | ponta do sol\n",
      "Processing Record 7 of Set 1 | grindavik\n",
      "Processing Record 8 of Set 1 | ahipara\n",
      "Processing Record 9 of Set 1 | avarua\n",
      "Processing Record 10 of Set 1 | fortuna\n",
      "Processing Record 11 of Set 1 | payson\n",
      "Processing Record 12 of Set 1 | carnarvon\n",
      "Processing Record 13 of Set 1 | asau\n",
      "Processing Record 14 of Set 1 | hofn\n",
      "Processing Record 15 of Set 1 | alice springs\n",
      "Processing Record 16 of Set 1 | butaritari\n",
      "Processing Record 17 of Set 1 | severo-kurilsk\n",
      "Processing Record 18 of Set 1 | kodiak\n",
      "Processing Record 19 of Set 1 | hoganas\n",
      "Processing Record 20 of Set 1 | dikson\n",
      "Processing Record 21 of Set 1 | hermanus\n",
      "Processing Record 22 of Set 1 | matehuala\n",
      "Processing Record 23 of Set 1 | lagoa\n",
      "Processing Record 24 of Set 1 | bluff\n",
      "Skipping no city found\n",
      "Processing Record 25 of Set 1 | new norfolk\n",
      "Processing Record 26 of Set 1 | ushuaia\n",
      "Processing Record 27 of Set 1 | kiruna\n",
      "Processing Record 28 of Set 1 | esperance\n",
      "Processing Record 29 of Set 1 | lubao\n",
      "Processing Record 30 of Set 1 | sechura\n",
      "Processing Record 31 of Set 1 | rameswaram\n",
      "Processing Record 32 of Set 1 | paramonga\n",
      "Skipping no city found\n",
      "Processing Record 33 of Set 1 | longyearbyen\n",
      "Processing Record 34 of Set 1 | prince rupert\n",
      "Processing Record 35 of Set 1 | east london\n",
      "Skipping no city found\n",
      "Processing Record 36 of Set 1 | thompson\n",
      "Processing Record 37 of Set 1 | son la\n",
      "Processing Record 38 of Set 1 | yar-sale\n",
      "Processing Record 39 of Set 1 | victoria\n",
      "Processing Record 40 of Set 1 | talnakh\n",
      "Processing Record 41 of Set 1 | atuona\n",
      "Processing Record 42 of Set 1 | broken hill\n",
      "Processing Record 43 of Set 1 | qaanaaq\n",
      "Skipping no city found\n",
      "Processing Record 44 of Set 1 | terra santa\n",
      "Processing Record 45 of Set 1 | lavrentiya\n",
      "Processing Record 46 of Set 1 | tiksi\n",
      "Processing Record 47 of Set 1 | jalingo\n",
      "Processing Record 48 of Set 1 | kapaa\n",
      "Processing Record 49 of Set 1 | kjollefjord\n",
      "Processing Record 1 of Set 2 | upernavik\n",
      "Processing Record 2 of Set 2 | arraial do cabo\n",
      "Processing Record 3 of Set 2 | albany\n",
      "Processing Record 4 of Set 2 | kansanshi\n",
      "Processing Record 5 of Set 2 | chokurdakh\n",
      "Processing Record 6 of Set 2 | ishigaki\n",
      "Skipping no city found\n",
      "Processing Record 7 of Set 2 | rikitea\n",
      "Processing Record 8 of Set 2 | kargasok\n",
      "Processing Record 9 of Set 2 | hobart\n",
      "Processing Record 10 of Set 2 | constitucion\n",
      "Processing Record 11 of Set 2 | bintulu\n",
      "Skipping no city found\n",
      "Processing Record 12 of Set 2 | margate\n",
      "Processing Record 13 of Set 2 | marsa matruh\n",
      "Processing Record 14 of Set 2 | manturovo\n",
      "Processing Record 15 of Set 2 | hilo\n",
      "Processing Record 16 of Set 2 | ormara\n",
      "Processing Record 17 of Set 2 | chuy\n",
      "Processing Record 18 of Set 2 | buala\n",
      "Processing Record 19 of Set 2 | pangnirtung\n",
      "Processing Record 20 of Set 2 | rocha\n",
      "Processing Record 21 of Set 2 | hamilton\n",
      "Processing Record 22 of Set 2 | bethel\n",
      "Processing Record 23 of Set 2 | airai\n",
      "Processing Record 24 of Set 2 | nikolskoye\n",
      "Processing Record 25 of Set 2 | faanui\n",
      "Processing Record 26 of Set 2 | conceicao da barra\n",
      "Processing Record 27 of Set 2 | jackson\n",
      "Processing Record 28 of Set 2 | svetlogorsk\n",
      "Processing Record 29 of Set 2 | yellowknife\n",
      "Processing Record 30 of Set 2 | busselton\n",
      "Skipping no city found\n",
      "Processing Record 31 of Set 2 | adre\n",
      "Processing Record 32 of Set 2 | bredasdorp\n",
      "Processing Record 33 of Set 2 | basco\n",
      "Processing Record 34 of Set 2 | vaini\n",
      "Processing Record 35 of Set 2 | hithadhoo\n",
      "Processing Record 36 of Set 2 | takoradi\n",
      "Skipping no city found\n",
      "Processing Record 37 of Set 2 | mount gambier\n",
      "Processing Record 38 of Set 2 | ilulissat\n",
      "Processing Record 39 of Set 2 | kavieng\n",
      "Processing Record 40 of Set 2 | iqaluit\n",
      "Processing Record 41 of Set 2 | cidreira\n",
      "Skipping no city found\n",
      "Processing Record 42 of Set 2 | trofors\n",
      "Processing Record 43 of Set 2 | kaniama\n",
      "Processing Record 44 of Set 2 | husavik\n",
      "Processing Record 45 of Set 2 | lakatoro\n",
      "Processing Record 46 of Set 2 | ippy\n",
      "Processing Record 47 of Set 2 | placido de castro\n",
      "Skipping no city found\n",
      "Processing Record 48 of Set 2 | adrar\n",
      "Skipping no city found\n",
      "Processing Record 49 of Set 2 | bogotol\n",
      "Processing Record 1 of Set 3 | devonport\n",
      "Processing Record 2 of Set 3 | hualmay\n",
      "Processing Record 3 of Set 3 | punta arenas\n",
      "Processing Record 4 of Set 3 | cherskiy\n",
      "Processing Record 5 of Set 3 | menongue\n",
      "Processing Record 6 of Set 3 | norman wells\n",
      "Processing Record 7 of Set 3 | jamestown\n",
      "Processing Record 8 of Set 3 | cape town\n",
      "Skipping no city found\n",
      "Skipping no city found\n",
      "Processing Record 9 of Set 3 | kudahuvadhoo\n",
      "Processing Record 10 of Set 3 | lata\n",
      "Processing Record 11 of Set 3 | mendi\n",
      "Processing Record 12 of Set 3 | baykit\n",
      "Processing Record 13 of Set 3 | sitka\n",
      "Processing Record 14 of Set 3 | piacabucu\n",
      "Processing Record 15 of Set 3 | nizhniy kuranakh\n",
      "Processing Record 16 of Set 3 | iquique\n",
      "Skipping no city found\n",
      "Processing Record 17 of Set 3 | karpathos\n",
      "Processing Record 18 of Set 3 | lasa\n",
      "Processing Record 19 of Set 3 | grants pass\n",
      "Processing Record 20 of Set 3 | mayor pablo lagerenza\n",
      "Processing Record 21 of Set 3 | chunskiy\n",
      "Processing Record 22 of Set 3 | mahebourg\n",
      "Processing Record 23 of Set 3 | westport\n",
      "Processing Record 24 of Set 3 | ribeira grande\n",
      "Processing Record 25 of Set 3 | masuguru\n",
      "Processing Record 26 of Set 3 | vanimo\n",
      "Processing Record 27 of Set 3 | kalmunai\n",
      "Processing Record 28 of Set 3 | shrewsbury\n",
      "Processing Record 29 of Set 3 | katsuura\n",
      "Processing Record 30 of Set 3 | touros\n",
      "Processing Record 31 of Set 3 | bambanglipuro\n",
      "Skipping no city found\n",
      "Processing Record 32 of Set 3 | mogwase\n",
      "Processing Record 33 of Set 3 | kerrobert\n",
      "Processing Record 34 of Set 3 | havoysund\n",
      "Processing Record 35 of Set 3 | miri\n",
      "Processing Record 36 of Set 3 | deputatskiy\n",
      "Processing Record 37 of Set 3 | ingham\n",
      "Processing Record 38 of Set 3 | najran\n",
      "Processing Record 39 of Set 3 | lebu\n",
      "Processing Record 40 of Set 3 | khatanga\n",
      "Processing Record 41 of Set 3 | tevaitoa\n",
      "Processing Record 42 of Set 3 | san andres\n",
      "Processing Record 43 of Set 3 | ancud\n",
      "Processing Record 44 of Set 3 | roald\n",
      "Skipping no city found\n",
      "Processing Record 45 of Set 3 | kahului\n",
      "Processing Record 46 of Set 3 | cayhagan\n",
      "Processing Record 47 of Set 3 | cabo san lucas\n",
      "Processing Record 48 of Set 3 | karratha\n",
      "Processing Record 49 of Set 3 | luderitz\n",
      "Processing Record 1 of Set 4 | sao joao da barra\n",
      "Processing Record 2 of Set 4 | teknaf\n",
      "Processing Record 3 of Set 4 | alta floresta\n",
      "Processing Record 4 of Set 4 | moree\n",
      "Skipping no city found\n",
      "Processing Record 5 of Set 4 | potosi\n",
      "Processing Record 6 of Set 4 | never\n",
      "Processing Record 7 of Set 4 | mount isa\n",
      "Processing Record 8 of Set 4 | saint-augustin\n",
      "Processing Record 9 of Set 4 | vila franca do campo\n",
      "Processing Record 10 of Set 4 | umm lajj\n",
      "Processing Record 11 of Set 4 | flin flon\n",
      "Processing Record 12 of Set 4 | buta\n",
      "Skipping no city found\n",
      "Processing Record 13 of Set 4 | panalingaan\n",
      "Processing Record 14 of Set 4 | hasaki\n",
      "Processing Record 15 of Set 4 | bireun\n",
      "Processing Record 16 of Set 4 | silver city\n",
      "Processing Record 17 of Set 4 | saint-georges\n",
      "Processing Record 18 of Set 4 | olga\n",
      "Processing Record 19 of Set 4 | roebourne\n",
      "Processing Record 20 of Set 4 | vestmannaeyjar\n",
      "Processing Record 21 of Set 4 | klaksvik\n",
      "Processing Record 22 of Set 4 | hluk\n",
      "Processing Record 23 of Set 4 | imbituba\n",
      "Processing Record 24 of Set 4 | norden\n",
      "Processing Record 25 of Set 4 | ryotsu\n",
      "Processing Record 26 of Set 4 | ahuimanu\n",
      "Processing Record 27 of Set 4 | ixtapa\n",
      "Processing Record 28 of Set 4 | muros\n",
      "Processing Record 29 of Set 4 | saint-paul\n",
      "Processing Record 30 of Set 4 | flinders\n",
      "Processing Record 31 of Set 4 | banff\n",
      "Processing Record 32 of Set 4 | bagotville\n",
      "Processing Record 33 of Set 4 | mehamn\n",
      "Processing Record 34 of Set 4 | port alfred\n",
      "Processing Record 35 of Set 4 | guerrero negro\n",
      "Processing Record 36 of Set 4 | abonnema\n",
      "Processing Record 37 of Set 4 | along\n",
      "Processing Record 38 of Set 4 | maymyo\n",
      "Processing Record 39 of Set 4 | srednekolymsk\n",
      "Skipping no city found\n",
      "Processing Record 40 of Set 4 | arman\n",
      "Processing Record 41 of Set 4 | ulladulla\n",
      "Processing Record 42 of Set 4 | riyadh\n"
     ]
    },
    {
     "name": "stdout",
     "output_type": "stream",
     "text": [
      "Skipping no city found\n",
      "Processing Record 43 of Set 4 | carberry\n",
      "Processing Record 44 of Set 4 | georgetown\n",
      "Processing Record 45 of Set 4 | urumqi\n",
      "Processing Record 46 of Set 4 | saint-philippe\n",
      "Processing Record 47 of Set 4 | anadyr\n",
      "Processing Record 48 of Set 4 | mar del plata\n",
      "Processing Record 49 of Set 4 | noumea\n",
      "Processing Record 1 of Set 5 | mayuge\n",
      "Processing Record 2 of Set 5 | rawlins\n",
      "Processing Record 3 of Set 5 | okhotsk\n",
      "Processing Record 4 of Set 5 | taonan\n",
      "Processing Record 5 of Set 5 | abbeville\n",
      "Processing Record 6 of Set 5 | zhezkazgan\n",
      "Processing Record 7 of Set 5 | pevek\n",
      "Processing Record 8 of Set 5 | saskylakh\n",
      "Processing Record 9 of Set 5 | tautira\n",
      "Processing Record 10 of Set 5 | pisco\n",
      "Processing Record 11 of Set 5 | santarem\n",
      "Processing Record 12 of Set 5 | burnley\n",
      "Processing Record 13 of Set 5 | kapoeta\n",
      "Processing Record 14 of Set 5 | leshukonskoye\n",
      "Processing Record 15 of Set 5 | bathsheba\n",
      "Processing Record 16 of Set 5 | bougouni\n",
      "Processing Record 17 of Set 5 | sorland\n",
      "Processing Record 18 of Set 5 | saldanha\n",
      "Processing Record 19 of Set 5 | poum\n",
      "Processing Record 20 of Set 5 | yulara\n",
      "Processing Record 21 of Set 5 | dhidhdhoo\n",
      "Processing Record 22 of Set 5 | san cristobal\n",
      "Processing Record 23 of Set 5 | kaitangata\n",
      "Processing Record 24 of Set 5 | ouadda\n",
      "Processing Record 25 of Set 5 | puerto ayora\n",
      "Processing Record 26 of Set 5 | tuatapere\n",
      "Processing Record 27 of Set 5 | turukhansk\n",
      "Processing Record 28 of Set 5 | matamoros\n",
      "Processing Record 29 of Set 5 | litovko\n",
      "Processing Record 30 of Set 5 | kavaratti\n",
      "Skipping no city found\n",
      "Processing Record 31 of Set 5 | ondarroa\n",
      "Processing Record 32 of Set 5 | codrington\n",
      "Processing Record 33 of Set 5 | karasjok\n",
      "Processing Record 34 of Set 5 | huarmey\n",
      "Processing Record 35 of Set 5 | camana\n",
      "Processing Record 36 of Set 5 | louis trichardt\n",
      "Processing Record 37 of Set 5 | lazaro cardenas\n",
      "Processing Record 38 of Set 5 | barrow\n",
      "Processing Record 39 of Set 5 | sambava\n",
      "Processing Record 40 of Set 5 | ladushkin\n",
      "Processing Record 41 of Set 5 | erenhot\n",
      "Processing Record 42 of Set 5 | xapuri\n",
      "Processing Record 43 of Set 5 | broome\n",
      "Processing Record 44 of Set 5 | wagar\n",
      "Processing Record 45 of Set 5 | shizunai\n",
      "Processing Record 46 of Set 5 | marawi\n",
      "Processing Record 47 of Set 5 | tortoli\n",
      "Processing Record 48 of Set 5 | monster\n",
      "Skipping no city found\n",
      "Processing Record 49 of Set 5 | nizhnekamsk\n",
      "Skipping no city found\n",
      "Processing Record 1 of Set 6 | college\n",
      "Processing Record 2 of Set 6 | camacha\n",
      "Processing Record 3 of Set 6 | vila velha\n",
      "Processing Record 4 of Set 6 | faya\n",
      "Processing Record 5 of Set 6 | chara\n",
      "Processing Record 6 of Set 6 | lannion\n",
      "Processing Record 7 of Set 6 | areka\n",
      "Processing Record 8 of Set 6 | santa cruz de la palma\n",
      "Processing Record 9 of Set 6 | uptar\n",
      "Processing Record 10 of Set 6 | itarema\n",
      "Processing Record 11 of Set 6 | boguchany\n",
      "Processing Record 12 of Set 6 | akdepe\n",
      "Processing Record 13 of Set 6 | pala\n",
      "Processing Record 14 of Set 6 | tasiilaq\n",
      "Processing Record 15 of Set 6 | tutoia\n",
      "Skipping no city found\n",
      "Processing Record 16 of Set 6 | yambio\n",
      "Processing Record 17 of Set 6 | salalah\n",
      "Processing Record 18 of Set 6 | beaumont\n",
      "Processing Record 19 of Set 6 | puerto leguizamo\n",
      "Processing Record 20 of Set 6 | vardo\n",
      "Processing Record 21 of Set 6 | zyryanka\n",
      "Processing Record 22 of Set 6 | pacific grove\n",
      "Processing Record 23 of Set 6 | kuusamo\n",
      "Processing Record 24 of Set 6 | necochea\n",
      "Skipping no city found\n",
      "Processing Record 25 of Set 6 | freeport\n",
      "Processing Record 26 of Set 6 | mopti\n",
      "Processing Record 27 of Set 6 | tombouctou\n",
      "Processing Record 28 of Set 6 | makakilo city\n",
      "Processing Record 29 of Set 6 | nemuro\n",
      "Skipping no city found\n",
      "Processing Record 30 of Set 6 | biograd na moru\n",
      "Processing Record 31 of Set 6 | saltillo\n",
      "Processing Record 32 of Set 6 | balabac\n",
      "Processing Record 33 of Set 6 | moron\n",
      "Skipping no city found\n",
      "Processing Record 34 of Set 6 | yeniseysk\n",
      "Skipping no city found\n",
      "Processing Record 35 of Set 6 | aurillac\n",
      "Processing Record 36 of Set 6 | waipawa\n",
      "Processing Record 37 of Set 6 | goderich\n",
      "Processing Record 38 of Set 6 | inhambane\n",
      "Processing Record 39 of Set 6 | nome\n",
      "Skipping no city found\n",
      "Processing Record 40 of Set 6 | balyaga\n",
      "Processing Record 41 of Set 6 | san carlos de bariloche\n",
      "Processing Record 42 of Set 6 | namatanai\n",
      "Processing Record 43 of Set 6 | lorengau\n",
      "Processing Record 44 of Set 6 | sao filipe\n",
      "Processing Record 45 of Set 6 | ovsyanka\n",
      "Processing Record 46 of Set 6 | golden\n",
      "Skipping no city found\n",
      "Processing Record 47 of Set 6 | provideniya\n",
      "Processing Record 48 of Set 6 | port elizabeth\n",
      "Processing Record 49 of Set 6 | opuwo\n",
      "Processing Record 1 of Set 7 | paracuru\n",
      "Processing Record 2 of Set 7 | licata\n",
      "Processing Record 3 of Set 7 | sistranda\n",
      "Processing Record 4 of Set 7 | vanavara\n",
      "Processing Record 5 of Set 7 | isla vista\n",
      "Processing Record 6 of Set 7 | turkistan\n",
      "Processing Record 7 of Set 7 | honningsvag\n",
      "Skipping no city found\n",
      "Processing Record 8 of Set 7 | ailigandi\n",
      "Processing Record 9 of Set 7 | shingu\n",
      "Skipping no city found\n",
      "Processing Record 10 of Set 7 | sadovoye\n",
      "Skipping no city found\n",
      "Processing Record 11 of Set 7 | asfi\n",
      "Processing Record 12 of Set 7 | lima\n",
      "Processing Record 13 of Set 7 | ugoofaaru\n",
      "Processing Record 14 of Set 7 | haverfordwest\n",
      "Processing Record 15 of Set 7 | santa maria\n",
      "Processing Record 16 of Set 7 | gorontalo\n",
      "Processing Record 17 of Set 7 | aklavik\n",
      "Processing Record 18 of Set 7 | nakhon nayok\n",
      "Processing Record 19 of Set 7 | blagoyevo\n",
      "Processing Record 20 of Set 7 | manokwari\n",
      "Processing Record 21 of Set 7 | qesarya\n",
      "Processing Record 22 of Set 7 | gamba\n",
      "Processing Record 23 of Set 7 | dakar\n",
      "Processing Record 24 of Set 7 | sept-iles\n",
      "Processing Record 25 of Set 7 | los llanos de aridane\n",
      "Processing Record 26 of Set 7 | jining\n",
      "Processing Record 27 of Set 7 | strezhevoy\n",
      "Processing Record 28 of Set 7 | muzhi\n",
      "Processing Record 29 of Set 7 | aykhal\n",
      "Processing Record 30 of Set 7 | amurzet\n",
      "Processing Record 31 of Set 7 | sarangani\n",
      "Skipping no city found\n",
      "Processing Record 32 of Set 7 | maniitsoq\n",
      "Processing Record 33 of Set 7 | muscat\n",
      "Processing Record 34 of Set 7 | araouane\n",
      "Processing Record 35 of Set 7 | barybino\n",
      "Processing Record 36 of Set 7 | teacapan\n",
      "Processing Record 37 of Set 7 | bolobo\n",
      "Processing Record 38 of Set 7 | skeldon\n",
      "Processing Record 39 of Set 7 | inongo\n",
      "Processing Record 40 of Set 7 | zomin\n",
      "Skipping no city found\n",
      "Processing Record 41 of Set 7 | narsaq\n",
      "Processing Record 42 of Set 7 | dingle\n",
      "Processing Record 43 of Set 7 | morayfield\n",
      "Processing Record 44 of Set 7 | vydrino\n",
      "Processing Record 45 of Set 7 | prokuplje\n",
      "Skipping no city found\n",
      "Processing Record 46 of Set 7 | kununurra\n",
      "Processing Record 47 of Set 7 | gavle\n",
      "Processing Record 48 of Set 7 | port hawkesbury\n",
      "Skipping no city found\n",
      "Processing Record 49 of Set 7 | bahia honda\n",
      "Processing Record 1 of Set 8 | nola\n",
      "Processing Record 2 of Set 8 | richards bay\n",
      "Processing Record 3 of Set 8 | otane\n",
      "Processing Record 4 of Set 8 | thinadhoo\n",
      "Processing Record 5 of Set 8 | camiri\n",
      "Processing Record 6 of Set 8 | mitsamiouli\n",
      "Processing Record 7 of Set 8 | chapais\n",
      "Skipping no city found\n",
      "Processing Record 8 of Set 8 | padang\n",
      "Processing Record 9 of Set 8 | natal\n",
      "Processing Record 10 of Set 8 | meridian\n",
      "Processing Record 11 of Set 8 | muli\n",
      "Processing Record 12 of Set 8 | clarence town\n",
      "Processing Record 13 of Set 8 | komagane\n",
      "Processing Record 14 of Set 8 | maumere\n",
      "Processing Record 15 of Set 8 | agadir\n",
      "Processing Record 16 of Set 8 | zhigansk\n",
      "Processing Record 17 of Set 8 | beni\n",
      "Processing Record 18 of Set 8 | tazovskiy\n",
      "Processing Record 19 of Set 8 | salo\n",
      "Processing Record 20 of Set 8 | pandan\n",
      "Processing Record 21 of Set 8 | barcelos\n",
      "Processing Record 22 of Set 8 | vestmanna\n",
      "Processing Record 23 of Set 8 | koslan\n",
      "Processing Record 24 of Set 8 | gizo\n",
      "Processing Record 25 of Set 8 | deulgaon raja\n",
      "Skipping no city found\n",
      "Processing Record 26 of Set 8 | ardatov\n",
      "Processing Record 27 of Set 8 | bonavista\n",
      "Processing Record 28 of Set 8 | souillac\n",
      "Processing Record 29 of Set 8 | iisalmi\n",
      "Processing Record 30 of Set 8 | canto do buriti\n",
      "Processing Record 31 of Set 8 | isangel\n",
      "Processing Record 32 of Set 8 | tarko-sale\n",
      "Processing Record 33 of Set 8 | sylling\n",
      "Processing Record 34 of Set 8 | beringovskiy\n",
      "Processing Record 35 of Set 8 | gat\n"
     ]
    },
    {
     "name": "stdout",
     "output_type": "stream",
     "text": [
      "Processing Record 36 of Set 8 | uruzgan\n",
      "Processing Record 37 of Set 8 | uyuni\n",
      "Processing Record 38 of Set 8 | kalulushi\n",
      "Processing Record 39 of Set 8 | mildura\n",
      "Processing Record 40 of Set 8 | torbay\n",
      "Processing Record 41 of Set 8 | diego de almagro\n",
      "Processing Record 42 of Set 8 | nagua\n",
      "Processing Record 43 of Set 8 | eyrarbakki\n",
      "Processing Record 44 of Set 8 | tupancireta\n",
      "Processing Record 45 of Set 8 | pathein\n",
      "Processing Record 46 of Set 8 | hachinohe\n",
      "Processing Record 47 of Set 8 | xinmin\n",
      "Processing Record 48 of Set 8 | tucuman\n",
      "Skipping no city found\n",
      "Processing Record 49 of Set 8 | taywarah\n",
      "Processing Record 1 of Set 9 | san ignacio\n",
      "Processing Record 2 of Set 9 | oregon\n",
      "Processing Record 3 of Set 9 | le vauclin\n",
      "Processing Record 4 of Set 9 | kemijarvi\n",
      "Processing Record 5 of Set 9 | bedele\n",
      "Processing Record 6 of Set 9 | koutsouras\n",
      "Processing Record 7 of Set 9 | kant\n",
      "Processing Record 8 of Set 9 | forestville\n",
      "Skipping no city found\n",
      "Processing Record 9 of Set 9 | coruripe\n",
      "Processing Record 10 of Set 9 | bara\n",
      "Processing Record 11 of Set 9 | saint peter\n",
      "Processing Record 12 of Set 9 | leczna\n",
      "Processing Record 13 of Set 9 | hirara\n",
      "Skipping no city found\n",
      "Processing Record 14 of Set 9 | perrelos\n",
      "Skipping no city found\n",
      "Processing Record 15 of Set 9 | sydney\n",
      "Processing Record 16 of Set 9 | samarai\n",
      "Processing Record 17 of Set 9 | campbell river\n",
      "Skipping no city found\n",
      "Processing Record 18 of Set 9 | leningradskiy\n",
      "Processing Record 19 of Set 9 | port hardy\n",
      "Processing Record 20 of Set 9 | puerto madryn\n",
      "Processing Record 21 of Set 9 | changying\n",
      "Processing Record 22 of Set 9 | kwakoa\n",
      "Processing Record 23 of Set 9 | barentu\n",
      "Processing Record 24 of Set 9 | bogorodskoye\n",
      "Processing Record 25 of Set 9 | maralal\n",
      "Processing Record 26 of Set 9 | laguna\n",
      "Processing Record 27 of Set 9 | dolores\n",
      "Processing Record 28 of Set 9 | te anau\n",
      "Processing Record 29 of Set 9 | igarka\n",
      "Processing Record 30 of Set 9 | baglan\n",
      "Processing Record 31 of Set 9 | atasu\n",
      "Processing Record 32 of Set 9 | wodonga\n",
      "Processing Record 33 of Set 9 | shimoda\n",
      "Processing Record 34 of Set 9 | bandarbeyla\n",
      "Processing Record 35 of Set 9 | sampit\n",
      "Processing Record 36 of Set 9 | sisimiut\n",
      "Processing Record 37 of Set 9 | buraydah\n",
      "Processing Record 38 of Set 9 | awjilah\n",
      "Processing Record 39 of Set 9 | tandil\n",
      "Processing Record 40 of Set 9 | lashio\n",
      "Processing Record 41 of Set 9 | sur\n",
      "Processing Record 42 of Set 9 | aviles\n",
      "Processing Record 43 of Set 9 | xuddur\n",
      "Processing Record 44 of Set 9 | acapulco\n",
      "Processing Record 45 of Set 9 | pecos\n",
      "Processing Record 46 of Set 9 | mayumba\n",
      "Processing Record 47 of Set 9 | davila\n",
      "Processing Record 48 of Set 9 | ohaeawai\n",
      "Processing Record 49 of Set 9 | linhares\n",
      "Processing Record 1 of Set 10 | mae hong son\n",
      "Processing Record 2 of Set 10 | kenai\n",
      "Processing Record 3 of Set 10 | haines junction\n",
      "Processing Record 4 of Set 10 | balkanabat\n",
      "Processing Record 5 of Set 10 | galveston\n",
      "Processing Record 6 of Set 10 | grand-santi\n",
      "Processing Record 7 of Set 10 | chiredzi\n",
      "Processing Record 8 of Set 10 | port lincoln\n",
      "Processing Record 9 of Set 10 | wanning\n",
      "Processing Record 10 of Set 10 | atambua\n",
      "Processing Record 11 of Set 10 | beian\n",
      "Processing Record 12 of Set 10 | ewa beach\n",
      "Processing Record 13 of Set 10 | nara\n",
      "Processing Record 14 of Set 10 | kikwit\n",
      "Skipping no city found\n",
      "Processing Record 15 of Set 10 | mackay\n",
      "Processing Record 16 of Set 10 | hienghene\n",
      "Processing Record 17 of Set 10 | geraldton\n",
      "Processing Record 18 of Set 10 | kismayo\n",
      "Processing Record 19 of Set 10 | akonolinga\n",
      "Processing Record 20 of Set 10 | maragogi\n",
      "Processing Record 21 of Set 10 | vao\n",
      "Processing Record 22 of Set 10 | san francisco\n",
      "Skipping no city found\n",
      "Processing Record 23 of Set 10 | salinopolis\n",
      "Processing Record 24 of Set 10 | ucluelet\n",
      "Processing Record 25 of Set 10 | batemans bay\n",
      "Processing Record 26 of Set 10 | ferme-neuve\n",
      "Processing Record 27 of Set 10 | lompoc\n",
      "Processing Record 28 of Set 10 | sabha\n",
      "Processing Record 29 of Set 10 | sobolivka\n",
      "Skipping no city found\n",
      "Processing Record 30 of Set 10 | armacao de pera\n",
      "Processing Record 31 of Set 10 | saint anthony\n",
      "Processing Record 32 of Set 10 | changji\n",
      "Processing Record 33 of Set 10 | ginir\n",
      "Skipping no city found\n",
      "Processing Record 34 of Set 10 | mulchen\n",
      "Processing Record 35 of Set 10 | beipiao\n",
      "Processing Record 36 of Set 10 | salsomaggiore terme\n",
      "Processing Record 37 of Set 10 | marzuq\n",
      "Processing Record 38 of Set 10 | olafsvik\n",
      "Processing Record 39 of Set 10 | nanortalik\n",
      "Processing Record 40 of Set 10 | bengkulu\n",
      "Skipping no city found\n",
      "Processing Record 41 of Set 10 | padampur\n",
      "Processing Record 42 of Set 10 | carutapera\n",
      "Processing Record 43 of Set 10 | yumen\n",
      "Processing Record 44 of Set 10 | taoudenni\n",
      "Processing Record 45 of Set 10 | garmsar\n",
      "Processing Record 46 of Set 10 | yangambi\n",
      "Processing Record 47 of Set 10 | svetlaya\n",
      "Processing Record 48 of Set 10 | rundu\n",
      "Processing Record 49 of Set 10 | dunedin\n",
      "Processing Record 1 of Set 11 | sandwick\n",
      "Processing Record 2 of Set 11 | pochutla\n",
      "Processing Record 3 of Set 11 | merauke\n",
      "Skipping no city found\n",
      "Processing Record 4 of Set 11 | fairbanks\n",
      "Processing Record 5 of Set 11 | carauari\n",
      "Processing Record 6 of Set 11 | sainte-suzanne\n",
      "Processing Record 7 of Set 11 | koson\n",
      "Processing Record 8 of Set 11 | hay river\n",
      "Processing Record 9 of Set 11 | harper\n",
      "Processing Record 10 of Set 11 | blackwater\n",
      "Processing Record 11 of Set 11 | coihaique\n",
      "Processing Record 12 of Set 11 | ust-omchug\n",
      "Processing Record 13 of Set 11 | vilhena\n",
      "Processing Record 14 of Set 11 | bulgan\n",
      "Skipping no city found\n",
      "Processing Record 15 of Set 11 | alofi\n",
      "Processing Record 16 of Set 11 | pitimbu\n",
      "Processing Record 17 of Set 11 | hobyo\n",
      "Processing Record 18 of Set 11 | anchorage\n",
      "Processing Record 19 of Set 11 | sylvan lake\n",
      "Processing Record 20 of Set 11 | shakiso\n",
      "Processing Record 21 of Set 11 | hovd\n",
      "Processing Record 22 of Set 11 | pangoa\n",
      "Processing Record 23 of Set 11 | henties bay\n",
      "Processing Record 24 of Set 11 | vyshneve\n",
      "Processing Record 25 of Set 11 | marihatag\n",
      "Processing Record 26 of Set 11 | chake chake\n",
      "Processing Record 27 of Set 11 | guanica\n",
      "Processing Record 28 of Set 11 | gibara\n",
      "Processing Record 29 of Set 11 | homer\n",
      "Processing Record 30 of Set 11 | atarra\n",
      "Processing Record 31 of Set 11 | capreol\n",
      "Processing Record 32 of Set 11 | sao gabriel da cachoeira\n",
      "Processing Record 33 of Set 11 | kamenka\n",
      "Processing Record 34 of Set 11 | matara\n",
      "Skipping no city found\n",
      "Processing Record 35 of Set 11 | port hedland\n",
      "Processing Record 36 of Set 11 | usinsk\n",
      "Processing Record 37 of Set 11 | mareeba\n",
      "Processing Record 38 of Set 11 | ayan\n",
      "Processing Record 39 of Set 11 | spassk\n",
      "Processing Record 40 of Set 11 | banda\n",
      "Processing Record 41 of Set 11 | howard springs\n",
      "Processing Record 42 of Set 11 | naze\n",
      "Processing Record 43 of Set 11 | ketchikan\n",
      "Processing Record 44 of Set 11 | san ramon\n",
      "Processing Record 45 of Set 11 | viedma\n",
      "Processing Record 46 of Set 11 | soyo\n",
      "Processing Record 47 of Set 11 | denpasar\n",
      "Processing Record 48 of Set 11 | sturgis\n"
     ]
    }
   ],
   "source": [
    "url = \"http://api.openweathermap.org/data/2.5/weather?units=Imperial&APPID=a3ce22e55582bde8a2988a3345e2c8d6\"\n",
    "\n",
    "# Lists for DataFrame\n",
    "city_two = []\n",
    "cloudinesses = []\n",
    "dates = []\n",
    "humidities = []\n",
    "lats = []\n",
    "lngs = []\n",
    "max_temps = []\n",
    "wind_speeds = []\n",
    "countries = []\n",
    "\n",
    "# Set Count Quantities \n",
    "count_one = 0\n",
    "set_one = 1\n",
    "\n",
    "# Create DataFrame Columns\n",
    "for city in cities:\n",
    "    \n",
    "    try:\n",
    "        TestCity = url + \"&q=\" + city\n",
    "        response = requests.get(TestCity).json()\n",
    "        cloudinesses.append(response['clouds']['all'])\n",
    "        countries.append(response['sys']['country'])\n",
    "        dates.append(response['dt'])\n",
    "        humidities.append(response['main']['humidity'])\n",
    "        lats.append(response['coord']['lat'])\n",
    "        lngs.append(response['coord']['lon'])\n",
    "        max_temps.append(response['main']['temp_max'])\n",
    "        wind_speeds.append(response['wind']['speed'])\n",
    "        if count_one > 48:\n",
    "            count_one = 1\n",
    "            set_one += 1\n",
    "            city_two.append(city)\n",
    "        else:\n",
    "            count_one += 1\n",
    "            city_two.append(city)\n",
    "        print(f\"Processing Record {count_one} of Set {set_one} | {city}\")\n",
    "    except Exception:\n",
    "        print(\"Skipping no city found\")"
   ]
  },
  {
   "cell_type": "markdown",
   "metadata": {},
   "source": [
    "### Convert Raw Data to DataFrame\n",
    "* Export the city data into a .csv.\n",
    "* Display the DataFrame"
   ]
  },
  {
   "cell_type": "code",
   "execution_count": 5,
   "metadata": {},
   "outputs": [
    {
     "data": {
      "text/html": [
       "<div>\n",
       "<style scoped>\n",
       "    .dataframe tbody tr th:only-of-type {\n",
       "        vertical-align: middle;\n",
       "    }\n",
       "\n",
       "    .dataframe tbody tr th {\n",
       "        vertical-align: top;\n",
       "    }\n",
       "\n",
       "    .dataframe thead th {\n",
       "        text-align: right;\n",
       "    }\n",
       "</style>\n",
       "<table border=\"1\" class=\"dataframe\">\n",
       "  <thead>\n",
       "    <tr style=\"text-align: right;\">\n",
       "      <th></th>\n",
       "      <th>City</th>\n",
       "      <th>Cloudiness</th>\n",
       "      <th>Country</th>\n",
       "      <th>Date</th>\n",
       "      <th>Humidity</th>\n",
       "      <th>Lat</th>\n",
       "      <th>Lng</th>\n",
       "      <th>Max Temp</th>\n",
       "      <th>Wind Speed</th>\n",
       "    </tr>\n",
       "  </thead>\n",
       "  <tbody>\n",
       "    <tr>\n",
       "      <th>0</th>\n",
       "      <td>kruisfontein</td>\n",
       "      <td>53</td>\n",
       "      <td>ZA</td>\n",
       "      <td>1591730426</td>\n",
       "      <td>45</td>\n",
       "      <td>-34.00</td>\n",
       "      <td>24.73</td>\n",
       "      <td>64.96</td>\n",
       "      <td>5.79</td>\n",
       "    </tr>\n",
       "    <tr>\n",
       "      <th>1</th>\n",
       "      <td>saint george</td>\n",
       "      <td>1</td>\n",
       "      <td>US</td>\n",
       "      <td>1591730253</td>\n",
       "      <td>15</td>\n",
       "      <td>37.10</td>\n",
       "      <td>-113.58</td>\n",
       "      <td>73.40</td>\n",
       "      <td>8.05</td>\n",
       "    </tr>\n",
       "    <tr>\n",
       "      <th>2</th>\n",
       "      <td>castro</td>\n",
       "      <td>100</td>\n",
       "      <td>BR</td>\n",
       "      <td>1591730183</td>\n",
       "      <td>81</td>\n",
       "      <td>-24.79</td>\n",
       "      <td>-50.01</td>\n",
       "      <td>69.93</td>\n",
       "      <td>8.16</td>\n",
       "    </tr>\n",
       "    <tr>\n",
       "      <th>3</th>\n",
       "      <td>mataura</td>\n",
       "      <td>36</td>\n",
       "      <td>NZ</td>\n",
       "      <td>1591730427</td>\n",
       "      <td>86</td>\n",
       "      <td>-46.19</td>\n",
       "      <td>168.86</td>\n",
       "      <td>50.00</td>\n",
       "      <td>5.01</td>\n",
       "    </tr>\n",
       "    <tr>\n",
       "      <th>4</th>\n",
       "      <td>tuktoyaktuk</td>\n",
       "      <td>90</td>\n",
       "      <td>CA</td>\n",
       "      <td>1591730427</td>\n",
       "      <td>70</td>\n",
       "      <td>69.45</td>\n",
       "      <td>-133.04</td>\n",
       "      <td>46.40</td>\n",
       "      <td>3.36</td>\n",
       "    </tr>\n",
       "  </tbody>\n",
       "</table>\n",
       "</div>"
      ],
      "text/plain": [
       "           City  Cloudiness Country        Date  Humidity    Lat     Lng  \\\n",
       "0  kruisfontein          53      ZA  1591730426        45 -34.00   24.73   \n",
       "1  saint george           1      US  1591730253        15  37.10 -113.58   \n",
       "2        castro         100      BR  1591730183        81 -24.79  -50.01   \n",
       "3       mataura          36      NZ  1591730427        86 -46.19  168.86   \n",
       "4   tuktoyaktuk          90      CA  1591730427        70  69.45 -133.04   \n",
       "\n",
       "   Max Temp  Wind Speed  \n",
       "0     64.96        5.79  \n",
       "1     73.40        8.05  \n",
       "2     69.93        8.16  \n",
       "3     50.00        5.01  \n",
       "4     46.40        3.36  "
      ]
     },
     "execution_count": 5,
     "metadata": {},
     "output_type": "execute_result"
    }
   ],
   "source": [
    "# Create Dictionary for DataFrame\n",
    "\n",
    "weatherdictionary = {\"City\":city_two, \"Cloudiness\":cloudinesses, \"Country\":countries, \"Date\":dates, \n",
    "                     \"Humidity\":humidities, \"Lat\":lats, \"Lng\":lngs, \"Max Temp\":max_temps,\"Wind Speed\":wind_speeds}\n",
    "\n",
    "# Create DataFrame\n",
    "weatherdataframe = pd.DataFrame(weatherdictionary)\n",
    "weatherdataframe.head()"
   ]
  },
  {
   "cell_type": "code",
   "execution_count": 6,
   "metadata": {},
   "outputs": [
    {
     "data": {
      "text/plain": [
       "City          538\n",
       "Cloudiness    538\n",
       "Country       538\n",
       "Date          538\n",
       "Humidity      538\n",
       "Lat           538\n",
       "Lng           538\n",
       "Max Temp      538\n",
       "Wind Speed    538\n",
       "dtype: int64"
      ]
     },
     "execution_count": 6,
     "metadata": {},
     "output_type": "execute_result"
    }
   ],
   "source": [
    "# Export City Data Into a CSV\n",
    "\n",
    "weatherdataframe.to_csv(\"output.csv\")\n",
    "weatherdataframe.count()"
   ]
  },
  {
   "cell_type": "markdown",
   "metadata": {},
   "source": [
    "## Inspect the data and remove the cities where the humidity > 100%.\n",
    "----\n",
    "Skip this step if there are no cities that have humidity > 100%. "
   ]
  },
  {
   "cell_type": "code",
   "execution_count": 7,
   "metadata": {},
   "outputs": [
    {
     "data": {
      "text/html": [
       "<div>\n",
       "<style scoped>\n",
       "    .dataframe tbody tr th:only-of-type {\n",
       "        vertical-align: middle;\n",
       "    }\n",
       "\n",
       "    .dataframe tbody tr th {\n",
       "        vertical-align: top;\n",
       "    }\n",
       "\n",
       "    .dataframe thead th {\n",
       "        text-align: right;\n",
       "    }\n",
       "</style>\n",
       "<table border=\"1\" class=\"dataframe\">\n",
       "  <thead>\n",
       "    <tr style=\"text-align: right;\">\n",
       "      <th></th>\n",
       "      <th>Cloudiness</th>\n",
       "      <th>Date</th>\n",
       "      <th>Humidity</th>\n",
       "      <th>Lat</th>\n",
       "      <th>Lng</th>\n",
       "      <th>Max Temp</th>\n",
       "      <th>Wind Speed</th>\n",
       "    </tr>\n",
       "  </thead>\n",
       "  <tbody>\n",
       "    <tr>\n",
       "      <th>count</th>\n",
       "      <td>538.000000</td>\n",
       "      <td>5.380000e+02</td>\n",
       "      <td>538.000000</td>\n",
       "      <td>538.000000</td>\n",
       "      <td>538.000000</td>\n",
       "      <td>538.000000</td>\n",
       "      <td>538.00000</td>\n",
       "    </tr>\n",
       "    <tr>\n",
       "      <th>mean</th>\n",
       "      <td>53.343866</td>\n",
       "      <td>1.591730e+09</td>\n",
       "      <td>68.104089</td>\n",
       "      <td>19.537323</td>\n",
       "      <td>19.288401</td>\n",
       "      <td>67.189870</td>\n",
       "      <td>7.99461</td>\n",
       "    </tr>\n",
       "    <tr>\n",
       "      <th>std</th>\n",
       "      <td>40.403905</td>\n",
       "      <td>6.277903e+01</td>\n",
       "      <td>21.503114</td>\n",
       "      <td>34.151482</td>\n",
       "      <td>92.306567</td>\n",
       "      <td>15.737806</td>\n",
       "      <td>5.12750</td>\n",
       "    </tr>\n",
       "    <tr>\n",
       "      <th>min</th>\n",
       "      <td>0.000000</td>\n",
       "      <td>1.591730e+09</td>\n",
       "      <td>4.000000</td>\n",
       "      <td>-54.800000</td>\n",
       "      <td>-175.200000</td>\n",
       "      <td>28.940000</td>\n",
       "      <td>0.22000</td>\n",
       "    </tr>\n",
       "    <tr>\n",
       "      <th>25%</th>\n",
       "      <td>5.000000</td>\n",
       "      <td>1.591730e+09</td>\n",
       "      <td>55.000000</td>\n",
       "      <td>-8.860000</td>\n",
       "      <td>-59.422500</td>\n",
       "      <td>55.400000</td>\n",
       "      <td>4.24500</td>\n",
       "    </tr>\n",
       "    <tr>\n",
       "      <th>50%</th>\n",
       "      <td>66.500000</td>\n",
       "      <td>1.591730e+09</td>\n",
       "      <td>73.000000</td>\n",
       "      <td>21.395000</td>\n",
       "      <td>23.530000</td>\n",
       "      <td>68.720000</td>\n",
       "      <td>6.93000</td>\n",
       "    </tr>\n",
       "    <tr>\n",
       "      <th>75%</th>\n",
       "      <td>95.000000</td>\n",
       "      <td>1.591731e+09</td>\n",
       "      <td>84.000000</td>\n",
       "      <td>49.177500</td>\n",
       "      <td>100.347500</td>\n",
       "      <td>80.457500</td>\n",
       "      <td>10.92750</td>\n",
       "    </tr>\n",
       "    <tr>\n",
       "      <th>max</th>\n",
       "      <td>100.000000</td>\n",
       "      <td>1.591731e+09</td>\n",
       "      <td>100.000000</td>\n",
       "      <td>78.220000</td>\n",
       "      <td>179.320000</td>\n",
       "      <td>106.020000</td>\n",
       "      <td>35.57000</td>\n",
       "    </tr>\n",
       "  </tbody>\n",
       "</table>\n",
       "</div>"
      ],
      "text/plain": [
       "       Cloudiness          Date    Humidity         Lat         Lng  \\\n",
       "count  538.000000  5.380000e+02  538.000000  538.000000  538.000000   \n",
       "mean    53.343866  1.591730e+09   68.104089   19.537323   19.288401   \n",
       "std     40.403905  6.277903e+01   21.503114   34.151482   92.306567   \n",
       "min      0.000000  1.591730e+09    4.000000  -54.800000 -175.200000   \n",
       "25%      5.000000  1.591730e+09   55.000000   -8.860000  -59.422500   \n",
       "50%     66.500000  1.591730e+09   73.000000   21.395000   23.530000   \n",
       "75%     95.000000  1.591731e+09   84.000000   49.177500  100.347500   \n",
       "max    100.000000  1.591731e+09  100.000000   78.220000  179.320000   \n",
       "\n",
       "         Max Temp  Wind Speed  \n",
       "count  538.000000   538.00000  \n",
       "mean    67.189870     7.99461  \n",
       "std     15.737806     5.12750  \n",
       "min     28.940000     0.22000  \n",
       "25%     55.400000     4.24500  \n",
       "50%     68.720000     6.93000  \n",
       "75%     80.457500    10.92750  \n",
       "max    106.020000    35.57000  "
      ]
     },
     "execution_count": 7,
     "metadata": {},
     "output_type": "execute_result"
    }
   ],
   "source": [
    "#  Get the indices of cities that have humidity over 100%.\n",
    "\n",
    "weatherdataframe.describe()"
   ]
  },
  {
   "cell_type": "code",
   "execution_count": 8,
   "metadata": {},
   "outputs": [],
   "source": [
    "# Make a new DataFrame equal to the city data to drop all humidity outliers by index.\n",
    "# Passing \"inplace=False\" will make a copy of the city_data DataFrame, which we call \"clean_city_data\".\n"
   ]
  },
  {
   "cell_type": "code",
   "execution_count": 9,
   "metadata": {},
   "outputs": [],
   "source": [
    "# Extract relevant fields from the data frame\n",
    "\n",
    "\n",
    "# Export the City_Data into a csv\n"
   ]
  },
  {
   "cell_type": "markdown",
   "metadata": {},
   "source": [
    "## Plotting the Data\n",
    "* Use proper labeling of the plots using plot titles (including date of analysis) and axes labels.\n",
    "* Save the plotted figures as .pngs."
   ]
  },
  {
   "cell_type": "markdown",
   "metadata": {},
   "source": [
    "## Latitude vs. Temperature Plot"
   ]
  },
  {
   "cell_type": "code",
   "execution_count": 10,
   "metadata": {
    "scrolled": true
   },
   "outputs": [
    {
     "data": {
      "image/png": "[encoded data removed]",
      "text/plain": [
       "<Figure size 432x288 with 1 Axes>"
      ]
     },
     "metadata": {
      "needs_background": "light"
     },
     "output_type": "display_data"
    }
   ],
   "source": [
    "plt.scatter(weatherdataframe[\"Lat\"],weatherdataframe[\"Max Temp\"])\n",
    "plt.title(\"Latitude vs. Maximum Temperature\")\n",
    "plt.xlabel(\"Latitude\")\n",
    "plt.ylabel(\"Maximum Temperature (F)\")\n",
    "plt.grid(True)\n",
    "plt.savefig(\"figure1.png\")\n",
    "plt.show()"
   ]
  },
  {
   "cell_type": "markdown",
   "metadata": {},
   "source": [
    "## Latitude vs. Humidity Plot"
   ]
  },
  {
   "cell_type": "code",
   "execution_count": 11,
   "metadata": {},
   "outputs": [
    {
     "data": {
      "image/png": "[encoded data removed]",
      "text/plain": [
       "<Figure size 432x288 with 1 Axes>"
      ]
     },
     "metadata": {
      "needs_background": "light"
     },
     "output_type": "display_data"
    }
   ],
   "source": [
    "plt.scatter(weatherdataframe[\"Lat\"],weatherdataframe[\"Humidity\"])\n",
    "plt.title(\"Latitude vs. Humidity\")\n",
    "plt.xlabel(\"Latitude\")\n",
    "plt.ylabel(\"Humidity (%)\")\n",
    "plt.grid(True)\n",
    "plt.savefig(\"figure2.png\")\n",
    "plt.show()"
   ]
  },
  {
   "cell_type": "markdown",
   "metadata": {},
   "source": [
    "## Latitude vs. Cloudiness Plot"
   ]
  },
  {
   "cell_type": "code",
   "execution_count": 12,
   "metadata": {},
   "outputs": [
    {
     "data": {
      "image/png": "[encoded data removed]",
      "text/plain": [
       "<Figure size 432x288 with 1 Axes>"
      ]
     },
     "metadata": {
      "needs_background": "light"
     },
     "output_type": "display_data"
    }
   ],
   "source": [
    "plt.scatter(weatherdataframe[\"Lat\"],weatherdataframe[\"Cloudiness\"])\n",
    "plt.title(\"Latitude vs. Cloudiness\")\n",
    "plt.xlabel(\"Latitude\")\n",
    "plt.ylabel(\"Cloudiness\")\n",
    "plt.grid(True)\n",
    "plt.savefig(\"figure3.png\")\n",
    "plt.show()"
   ]
  },
  {
   "cell_type": "markdown",
   "metadata": {},
   "source": [
    "## Latitude vs. Wind Speed Plot"
   ]
  },
  {
   "cell_type": "code",
   "execution_count": 13,
   "metadata": {},
   "outputs": [
    {
     "data": {
      "image/png": "[encoded data removed]",
      "text/plain": [
       "<Figure size 432x288 with 1 Axes>"
      ]
     },
     "metadata": {
      "needs_background": "light"
     },
     "output_type": "display_data"
    }
   ],
   "source": [
    "plt.scatter(weatherdataframe[\"Lat\"],weatherdataframe[\"Wind Speed\"])\n",
    "plt.title(\"Latitude vs. Wind Speed\")\n",
    "plt.xlabel(\"Latitude\")\n",
    "plt.ylabel(\"Wind Speed\")\n",
    "plt.ylim(-2, 34)\n",
    "plt.grid(True)\n",
    "plt.savefig(\"figure4.png\")\n",
    "plt.show()"
   ]
  },
  {
   "cell_type": "markdown",
   "metadata": {},
   "source": [
    "## Data Analysis"
   ]
  },
  {
   "cell_type": "markdown",
   "metadata": {},
   "source": [
    "## Linear Regression"
   ]
  },
  {
   "cell_type": "code",
   "execution_count": 14,
   "metadata": {},
   "outputs": [],
   "source": [
    "# OPTIONAL: Create a function to create Linear Regression plots"
   ]
  },
  {
   "cell_type": "code",
   "execution_count": 23,
   "metadata": {},
   "outputs": [],
   "source": [
    "# Create Northern and Southern Hemisphere DataFrames\n",
    "\n",
    "northernhemi = weatherdataframe.loc[(weatherdataframe[\"Lat\"] >= 0)]\n",
    "southernhemi = weatherdataframe.loc[(weatherdataframe[\"Lat\"] <= 0)]"
   ]
  },
  {
   "cell_type": "markdown",
   "metadata": {},
   "source": [
    "####  Northern Hemisphere - Max Temp vs. Latitude Linear Regression"
   ]
  },
  {
   "cell_type": "code",
   "execution_count": 55,
   "metadata": {},
   "outputs": [],
   "source": [
    "northernmaxtemp = northernhemi[\"Max Temp\"]\n",
    "northernlatitude = northernhemi[\"Lat\"]"
   ]
  },
  {
   "cell_type": "code",
   "execution_count": 56,
   "metadata": {},
   "outputs": [
    {
     "name": "stdout",
     "output_type": "stream",
     "text": [
      "slope: -0.604065    intercept: 91.114783\n",
      "R-squared: 0.573908\n"
     ]
    }
   ],
   "source": [
    "slope, intercept, r_value, p_value, std_err = linregress(northernlatitude, northernmaxtemp)\n",
    "print(\"slope: %f    intercept: %f\" % (slope, intercept))\n",
    "print(\"R-squared: %f\" % r_value**2)"
   ]
  },
  {
   "cell_type": "code",
   "execution_count": 79,
   "metadata": {},
   "outputs": [
    {
     "name": "stderr",
     "output_type": "stream",
     "text": [
      "No handles with labels found to put in legend.\n"
     ]
    },
    {
     "name": "stdout",
     "output_type": "stream",
     "text": [
      "R-squared: 0.000747\n"
     ]
    },
    {
     "data": {
      "image/png": "[encoded data removed]",
      "text/plain": [
       "<Figure size 432x288 with 1 Axes>"
      ]
     },
     "metadata": {
      "needs_background": "light"
     },
     "output_type": "display_data"
    },
    {
     "data": {
      "text/plain": [
       "<Figure size 432x288 with 0 Axes>"
      ]
     },
     "metadata": {},
     "output_type": "display_data"
    }
   ],
   "source": [
    "plt.plot(northernlatitude, northernmaxtemp, 'o')\n",
    "plt.plot(northernlatitude, intercept + slope*northernlatitude, 'r')\n",
    "plt.title(\"Northern Hemisphere: Max Temp vs. Latitude\")\n",
    "plt.xlabel(\"Latitude\")\n",
    "plt.ylabel(\"Max Temp\")\n",
    "plt.legend()\n",
    "print(\"R-squared: %f\" % r_value**2)\n",
    "line_eq = \"y = \" + str(round(slope,2)) + \"x + \" + str(round(intercept,2))\n",
    "plt.annotate(line_eq,(10,30),fontsize=15,color=\"red\")\n",
    "plt.show()\n",
    "\n",
    "plt.savefig(\"figur4.png\")\n"
   ]
  },
  {
   "cell_type": "markdown",
   "metadata": {},
   "source": [
    "####  Southern Hemisphere - Max Temp vs. Latitude Linear Regression"
   ]
  },
  {
   "cell_type": "code",
   "execution_count": 58,
   "metadata": {},
   "outputs": [],
   "source": [
    "southernmaxtemp = southernhemi[\"Max Temp\"]\n",
    "southernlatitude = southernhemi[\"Lat\"]"
   ]
  },
  {
   "cell_type": "code",
   "execution_count": 59,
   "metadata": {},
   "outputs": [
    {
     "name": "stdout",
     "output_type": "stream",
     "text": [
      "slope: 0.781969    intercept: 83.484516\n",
      "R-squared: 0.620080\n"
     ]
    }
   ],
   "source": [
    "slope, intercept, r_value, p_value, std_err = linregress(southernlatitude, southernmaxtemp)\n",
    "print(\"slope: %f    intercept: %f\" % (slope, intercept))\n",
    "print(\"R-squared: %f\" % r_value**2)"
   ]
  },
  {
   "cell_type": "code",
   "execution_count": 80,
   "metadata": {},
   "outputs": [
    {
     "name": "stderr",
     "output_type": "stream",
     "text": [
      "No handles with labels found to put in legend.\n"
     ]
    },
    {
     "name": "stdout",
     "output_type": "stream",
     "text": [
      "R-squared: 0.000747\n"
     ]
    },
    {
     "data": {
      "image/png": "[encoded data removed]",
      "text/plain": [
       "<Figure size 432x288 with 1 Axes>"
      ]
     },
     "metadata": {
      "needs_background": "light"
     },
     "output_type": "display_data"
    },
    {
     "data": {
      "text/plain": [
       "<Figure size 432x288 with 0 Axes>"
      ]
     },
     "metadata": {},
     "output_type": "display_data"
    }
   ],
   "source": [
    "plt.plot(southernlatitude, southernmaxtemp, 'o')\n",
    "plt.plot(southernlatitude, intercept + slope*southernlatitude, 'r')\n",
    "plt.title(\"Southern Hemisphere: Max Temp vs. Latitude\")\n",
    "plt.xlabel(\"Latitude\")\n",
    "plt.ylabel(\"Max Temp\")\n",
    "plt.legend()\n",
    "print(\"R-squared: %f\" % r_value**2)\n",
    "line_eq = \"y = \" + str(round(slope,2)) + \"x + \" + str(round(intercept,2))\n",
    "plt.annotate(line_eq,(10,30),fontsize=15,color=\"red\")\n",
    "plt.show()\n",
    "\n",
    "plt.savefig(\"figure5.png\")\n"
   ]
  },
  {
   "cell_type": "markdown",
   "metadata": {},
   "source": [
    "####  Northern Hemisphere - Humidity (%) vs. Latitude Linear Regression"
   ]
  },
  {
   "cell_type": "code",
   "execution_count": 66,
   "metadata": {},
   "outputs": [],
   "source": [
    "northernhumid = northernhemi[\"Humidity\"]\n",
    "northernlatitude = northernhemi[\"Lat\"]"
   ]
  },
  {
   "cell_type": "code",
   "execution_count": 71,
   "metadata": {},
   "outputs": [
    {
     "name": "stdout",
     "output_type": "stream",
     "text": [
      "slope: 0.013059    intercept: 65.642689\n",
      "R-squared: 0.000146\n"
     ]
    }
   ],
   "source": [
    "slope, intercept, r_value, p_value, std_err = linregress(northernlatitude, northernhumid)\n",
    "print(\"slope: %f    intercept: %f\" % (slope, intercept))\n",
    "print(\"R-squared: %f\" % r_value**2)"
   ]
  },
  {
   "cell_type": "code",
   "execution_count": 81,
   "metadata": {},
   "outputs": [
    {
     "name": "stderr",
     "output_type": "stream",
     "text": [
      "No handles with labels found to put in legend.\n"
     ]
    },
    {
     "name": "stdout",
     "output_type": "stream",
     "text": [
      "R-squared: 0.000747\n"
     ]
    },
    {
     "data": {
      "image/png": "[encoded data removed]",
      "text/plain": [
       "<Figure size 432x288 with 1 Axes>"
      ]
     },
     "metadata": {
      "needs_background": "light"
     },
     "output_type": "display_data"
    },
    {
     "data": {
      "text/plain": [
       "<Figure size 432x288 with 0 Axes>"
      ]
     },
     "metadata": {},
     "output_type": "display_data"
    }
   ],
   "source": [
    "plt.plot(northernlatitude, northernhumid, 'o')\n",
    "plt.plot(northernlatitude, intercept + slope*northernlatitude, 'r')\n",
    "plt.title(\"Northern Hemisphere: Latitude vs Humidity\")\n",
    "plt.xlabel(\"Latitude\")\n",
    "plt.ylabel(\"Humidity\")\n",
    "plt.legend()\n",
    "print(\"R-squared: %f\" % r_value**2)\n",
    "line_eq = \"y = \" + str(round(slope,2)) + \"x + \" + str(round(intercept,2))\n",
    "plt.annotate(line_eq,(10,30),fontsize=15,color=\"red\")\n",
    "plt.show()\n",
    "\n",
    "plt.savefig(\"figur6.png\")\n"
   ]
  },
  {
   "cell_type": "markdown",
   "metadata": {},
   "source": [
    "####  Southern Hemisphere - Humidity (%) vs. Latitude Linear Regression"
   ]
  },
  {
   "cell_type": "code",
   "execution_count": 82,
   "metadata": {},
   "outputs": [],
   "source": [
    "southernhumid = southernhemi[\"Humidity\"]\n",
    "southernlatitude = southernhemi[\"Lat\"]"
   ]
  },
  {
   "cell_type": "code",
   "execution_count": 77,
   "metadata": {},
   "outputs": [
    {
     "name": "stdout",
     "output_type": "stream",
     "text": [
      "slope: -0.036557    intercept: 71.302810\n",
      "R-squared: 0.000747\n"
     ]
    }
   ],
   "source": [
    "slope, intercept, r_value, p_value, std_err = linregress(southernlatitude, southernhumid)\n",
    "print(\"slope: %f    intercept: %f\" % (slope, intercept))\n",
    "print(\"R-squared: %f\" % r_value**2)"
   ]
  },
  {
   "cell_type": "code",
   "execution_count": 83,
   "metadata": {},
   "outputs": [
    {
     "name": "stderr",
     "output_type": "stream",
     "text": [
      "No handles with labels found to put in legend.\n"
     ]
    },
    {
     "name": "stdout",
     "output_type": "stream",
     "text": [
      "R-squared: 0.000747\n"
     ]
    },
    {
     "data": {
      "image/png": "[encoded data removed]",
      "text/plain": [
       "<Figure size 432x288 with 1 Axes>"
      ]
     },
     "metadata": {
      "needs_background": "light"
     },
     "output_type": "display_data"
    },
    {
     "data": {
      "text/plain": [
       "<Figure size 432x288 with 0 Axes>"
      ]
     },
     "metadata": {},
     "output_type": "display_data"
    }
   ],
   "source": [
    "plt.plot(southernlatitude, southernhumid, 'o')\n",
    "plt.plot(southernlatitude, intercept + slope*southernlatitude, 'r')\n",
    "plt.title(\"Southern Hemisphere: Latitude vs Humidity\")\n",
    "plt.xlabel(\"Latitude\")\n",
    "plt.ylabel(\"Humidity\")\n",
    "plt.legend()\n",
    "print(\"R-squared: %f\" % r_value**2)\n",
    "line_eq = \"y = \" + str(round(slope,2)) + \"x + \" + str(round(intercept,2))\n",
    "plt.annotate(line_eq,(10,30),fontsize=15,color=\"red\")\n",
    "plt.show()\n",
    "\n",
    "plt.savefig(\"figure7.png\")\n"
   ]
  },
  {
   "cell_type": "markdown",
   "metadata": {},
   "source": [
    "####  Northern Hemisphere - Cloudiness (%) vs. Latitude Linear Regression"
   ]
  },
  {
   "cell_type": "code",
   "execution_count": 85,
   "metadata": {},
   "outputs": [
    {
     "name": "stdout",
     "output_type": "stream",
     "text": [
      "slope: -0.017854    intercept: 56.845664\n",
      "R-squared: 0.000085\n"
     ]
    }
   ],
   "source": [
    "northernlatitude = northernhemi[\"Lat\"]\n",
    "northerncloudiness = northernhemi[\"Cloudiness\"]\n",
    "\n",
    "slope, intercept, r_value, p_value, std_err = linregress(northernlatitude, northerncloudiness)\n",
    "print(\"slope: %f    intercept: %f\" % (slope, intercept))\n",
    "print(\"R-squared: %f\" % r_value**2)"
   ]
  },
  {
   "cell_type": "code",
   "execution_count": 86,
   "metadata": {},
   "outputs": [
    {
     "name": "stderr",
     "output_type": "stream",
     "text": [
      "No handles with labels found to put in legend.\n"
     ]
    },
    {
     "name": "stdout",
     "output_type": "stream",
     "text": [
      "R-squared: 0.000085\n"
     ]
    },
    {
     "data": {
      "image/png": "[encoded data removed]",
      "text/plain": [
       "<Figure size 432x288 with 1 Axes>"
      ]
     },
     "metadata": {
      "needs_background": "light"
     },
     "output_type": "display_data"
    },
    {
     "data": {
      "text/plain": [
       "<Figure size 432x288 with 0 Axes>"
      ]
     },
     "metadata": {},
     "output_type": "display_data"
    }
   ],
   "source": [
    "plt.plot(northernlatitude, northerncloudiness, 'o')\n",
    "plt.plot(northernlatitude, intercept + slope*northernlatitude, 'r')\n",
    "plt.title(\"Northern Hemisphere: Latitude vs Cloudiness\")\n",
    "plt.xlabel(\"Latitude\")\n",
    "plt.ylabel(\"Cloudiness\")\n",
    "plt.legend()\n",
    "print(\"R-squared: %f\" % r_value**2)\n",
    "line_eq = \"y = \" + str(round(slope,2)) + \"x + \" + str(round(intercept,2))\n",
    "plt.annotate(line_eq,(10,30),fontsize=15,color=\"red\")\n",
    "plt.show()\n",
    "\n",
    "plt.savefig(\"figure8.png\")\n"
   ]
  },
  {
   "cell_type": "markdown",
   "metadata": {},
   "source": [
    "####  Southern Hemisphere - Cloudiness (%) vs. Latitude Linear Regression"
   ]
  },
  {
   "cell_type": "code",
   "execution_count": 87,
   "metadata": {},
   "outputs": [
    {
     "name": "stdout",
     "output_type": "stream",
     "text": [
      "slope: -0.042134    intercept: 46.750210\n",
      "R-squared: 0.000210\n"
     ]
    }
   ],
   "source": [
    "southernlatitude = southernhemi[\"Lat\"]\n",
    "southerncloudiness = southernhemi[\"Cloudiness\"]\n",
    "\n",
    "slope, intercept, r_value, p_value, std_err = linregress(southernlatitude, southerncloudiness)\n",
    "print(\"slope: %f    intercept: %f\" % (slope, intercept))\n",
    "print(\"R-squared: %f\" % r_value**2)"
   ]
  },
  {
   "cell_type": "code",
   "execution_count": 88,
   "metadata": {},
   "outputs": [
    {
     "name": "stderr",
     "output_type": "stream",
     "text": [
      "No handles with labels found to put in legend.\n"
     ]
    },
    {
     "name": "stdout",
     "output_type": "stream",
     "text": [
      "R-squared: 0.000210\n"
     ]
    },
    {
     "data": {
      "image/png": "[encoded data removed]",
      "text/plain": [
       "<Figure size 432x288 with 1 Axes>"
      ]
     },
     "metadata": {
      "needs_background": "light"
     },
     "output_type": "display_data"
    },
    {
     "data": {
      "text/plain": [
       "<Figure size 432x288 with 0 Axes>"
      ]
     },
     "metadata": {},
     "output_type": "display_data"
    }
   ],
   "source": [
    "plt.plot(southernlatitude, southerncloudiness, 'o')\n",
    "plt.plot(southernlatitude, intercept + slope*southernlatitude, 'r')\n",
    "plt.title(\"Southern Hemisphere: Latitude vs Cloudiness\")\n",
    "plt.xlabel(\"Latitude\")\n",
    "plt.ylabel(\"Cloudiness\")\n",
    "plt.legend()\n",
    "print(\"R-squared: %f\" % r_value**2)\n",
    "line_eq = \"y = \" + str(round(slope,2)) + \"x + \" + str(round(intercept,2))\n",
    "plt.annotate(line_eq,(10,30),fontsize=15,color=\"red\")\n",
    "plt.show()\n",
    "\n",
    "plt.savefig(\"figure9.png\")"
   ]
  },
  {
   "cell_type": "markdown",
   "metadata": {},
   "source": [
    "####  Northern Hemisphere - Wind Speed (mph) vs. Latitude Linear Regression"
   ]
  },
  {
   "cell_type": "code",
   "execution_count": 90,
   "metadata": {},
   "outputs": [
    {
     "name": "stdout",
     "output_type": "stream",
     "text": [
      "slope: 0.014070    intercept: 7.629844\n",
      "R-squared: 0.003388\n"
     ]
    }
   ],
   "source": [
    "northernlatitude = northernhemi[\"Lat\"]\n",
    "northernwindspeed = northernhemi[\"Wind Speed\"]\n",
    "\n",
    "slope, intercept, r_value, p_value, std_err = linregress(northernlatitude, northernwindspeed)\n",
    "print(\"slope: %f    intercept: %f\" % (slope, intercept))\n",
    "print(\"R-squared: %f\" % r_value**2)"
   ]
  },
  {
   "cell_type": "code",
   "execution_count": 93,
   "metadata": {},
   "outputs": [
    {
     "name": "stderr",
     "output_type": "stream",
     "text": [
      "No handles with labels found to put in legend.\n"
     ]
    },
    {
     "name": "stdout",
     "output_type": "stream",
     "text": [
      "R-squared: 0.009226\n"
     ]
    },
    {
     "data": {
      "image/png": "[encoded data removed]",
      "text/plain": [
       "<Figure size 432x288 with 1 Axes>"
      ]
     },
     "metadata": {
      "needs_background": "light"
     },
     "output_type": "display_data"
    },
    {
     "data": {
      "text/plain": [
       "<Figure size 432x288 with 0 Axes>"
      ]
     },
     "metadata": {},
     "output_type": "display_data"
    }
   ],
   "source": [
    "plt.plot(northernlatitude, northernwindspeed, 'o')\n",
    "plt.plot(northernlatitude, intercept + slope*northernlatitude, 'r')\n",
    "plt.title(\"Northern Hemisphere: Latitude vs Wind Speed\")\n",
    "plt.xlabel(\"Latitude\")\n",
    "plt.ylabel(\"Wind Speed\")\n",
    "plt.legend()\n",
    "print(\"R-squared: %f\" % r_value**2)\n",
    "line_eq = \"y = \" + str(round(slope,2)) + \"x + \" + str(round(intercept,2))\n",
    "plt.annotate(line_eq,(10,30),fontsize=15,color=\"red\")\n",
    "plt.show()\n",
    "\n",
    "plt.savefig(\"figure10.png\")"
   ]
  },
  {
   "cell_type": "markdown",
   "metadata": {},
   "source": [
    "####  Southern Hemisphere - Wind Speed (mph) vs. Latitude Linear Regression"
   ]
  },
  {
   "cell_type": "code",
   "execution_count": 92,
   "metadata": {},
   "outputs": [
    {
     "name": "stdout",
     "output_type": "stream",
     "text": [
      "slope: -0.036860    intercept: 6.829346\n",
      "R-squared: 0.009226\n"
     ]
    }
   ],
   "source": [
    "southernlatitude = southernhemi[\"Lat\"]\n",
    "southernwindspeed = southernhemi[\"Wind Speed\"]\n",
    "\n",
    "slope, intercept, r_value, p_value, std_err = linregress(southernlatitude, southernwindspeed)\n",
    "print(\"slope: %f    intercept: %f\" % (slope, intercept))\n",
    "print(\"R-squared: %f\" % r_value**2)"
   ]
  },
  {
   "cell_type": "code",
   "execution_count": 94,
   "metadata": {},
   "outputs": [
    {
     "name": "stderr",
     "output_type": "stream",
     "text": [
      "No handles with labels found to put in legend.\n"
     ]
    },
    {
     "name": "stdout",
     "output_type": "stream",
     "text": [
      "R-squared: 0.009226\n"
     ]
    },
    {
     "data": {
      "image/png": "[encoded data removed]",
      "text/plain": [
       "<Figure size 432x288 with 1 Axes>"
      ]
     },
     "metadata": {
      "needs_background": "light"
     },
     "output_type": "display_data"
    },
    {
     "data": {
      "text/plain": [
       "<Figure size 432x288 with 0 Axes>"
      ]
     },
     "metadata": {},
     "output_type": "display_data"
    }
   ],
   "source": [
    "plt.plot(southernlatitude, southernwindspeed, 'o')\n",
    "plt.plot(southernlatitude, intercept + slope*southernlatitude, 'r')\n",
    "plt.title(\"SouthernHemisphere: Latitude vs Wind Speed\")\n",
    "plt.xlabel(\"Latitude\")\n",
    "plt.ylabel(\"Wind Speed\")\n",
    "plt.legend()\n",
    "print(\"R-squared: %f\" % r_value**2)\n",
    "line_eq = \"y = \" + str(round(slope,2)) + \"x + \" + str(round(intercept,2))\n",
    "plt.annotate(line_eq,(10,30),fontsize=15,color=\"red\")\n",
    "plt.show()\n",
    "\n",
    "plt.savefig(\"figure11.png\")"
   ]
  }
 ],
 "metadata": {
  "anaconda-cloud": {},
  "kernel_info": {
   "name": "python3"
  },
  "kernelspec": {
   "display_name": "Python [conda env:PythonData]",
   "language": "python",
   "name": "conda-env-PythonData-py"
  },
  "language_info": {
   "codemirror_mode": {
    "name": "ipython",
    "version": 3
   },
   "file_extension": ".py",
   "mimetype": "text/x-python",
   "name": "python",
   "nbconvert_exporter": "python",
   "pygments_lexer": "ipython3",
   "version": "3.6.10"
  },
  "latex_envs": {
   "LaTeX_envs_menu_present": true,
   "autoclose": false,
   "autocomplete": true,
   "bibliofile": "biblio.bib",
   "cite_by": "apalike",
   "current_citInitial": 1,
   "eqLabelWithNumbers": true,
   "eqNumInitial": 1,
   "hotkeys": {
    "equation": "Ctrl-E",
    "itemize": "Ctrl-I"
   },
   "labels_anchors": false,
   "latex_user_defs": false,
   "report_style_numbering": false,
   "user_envs_cfg": false
  },
  "nteract": {
   "version": "0.12.3"
  }
 },
 "nbformat": 4,
 "nbformat_minor": 2
}
